{
 "cells": [
  {
   "cell_type": "code",
   "execution_count": 2,
   "metadata": {},
   "outputs": [
    {
     "name": "stdout",
     "output_type": "stream",
     "text": [
      "2210.6814074060803\n"
     ]
    }
   ],
   "source": [
    "# ÖDEV NO:1\n",
    "\n",
    "ilk_gun_sonu=((1000/100)*12)+1000\n",
    "ikinci_gun_sonu=((ilk_gun_sonu/100)*12)+ilk_gun_sonu\n",
    "ucuncu_gun_sonu=((ikinci_gun_sonu/100)*12)+ikinci_gun_sonu\n",
    "dorduncu_gun_sonu=((ucuncu_gun_sonu/100)*12)+ucuncu_gun_sonu\n",
    "besinci_gun_sonu=((dorduncu_gun_sonu/100)*12)+dorduncu_gun_sonu\n",
    "altinci_gun_sonu=((besinci_gun_sonu/100)*12)+besinci_gun_sonu\n",
    "yedinci_gun_sonu=((altinci_gun_sonu/100)*12)+altinci_gun_sonu\n",
    "print(yedinci_gun_sonu)"
   ]
  },
  {
   "cell_type": "code",
   "execution_count": 3,
   "metadata": {},
   "outputs": [
    {
     "name": "stdout",
     "output_type": "stream",
     "text": [
      "ana parayı giriniz:1000\n",
      "günlük ortalama kazanç yüzdesini giriniz:12\n",
      "Hafta başında 1000 dolarlık bitcoin aldığımızda günde ortalama % 12 kazançla, \n",
      "bir hafta sonunda 2210.68 dolar kazanırdık\n"
     ]
    }
   ],
   "source": [
    "# ÖDEV NO:2\n",
    "\n",
    "ana_para=input(\"ana parayı giriniz:\")\n",
    "kar_yuzdesi=input(\"günlük ortalama kazanç yüzdesini giriniz:\")\n",
    "ilk_gun_sonu=((float(ana_para)/100)*int(kar_yuzdesi))+float(ana_para)\n",
    "ikinci_gun_sonu=((float(ilk_gun_sonu)/100)*int(kar_yuzdesi))+float(ilk_gun_sonu)\n",
    "ucuncu_gun_sonu=((float(ikinci_gun_sonu)/100)*int(kar_yuzdesi))+float(ikinci_gun_sonu)\n",
    "dorduncu_gun_sonu=((float(ucuncu_gun_sonu)/100)*int(kar_yuzdesi))+float(ucuncu_gun_sonu)\n",
    "besinci_gun_sonu=((float(dorduncu_gun_sonu)/100)*int(kar_yuzdesi))+float(dorduncu_gun_sonu)\n",
    "altinci_gun_sonu=((float(besinci_gun_sonu)/100)*int(kar_yuzdesi))+float(besinci_gun_sonu)\n",
    "yedinci_gun_sonu=((float(altinci_gun_sonu)/100)*int(kar_yuzdesi))+float(altinci_gun_sonu)\n",
    "metin=\"\"\"Hafta başında {} dolarlık bitcoin aldığımızda günde ortalama % {} kazançla, \n",
    "bir hafta sonunda {:.2f} dolar kazanırdık\"\"\"\n",
    "print(metin.format(ana_para,kar_yuzdesi,yedinci_gun_sonu))"
   ]
  },
  {
   "cell_type": "code",
   "execution_count": 4,
   "metadata": {},
   "outputs": [
    {
     "name": "stdout",
     "output_type": "stream",
     "text": [
      "dosya adını yazınız:AHMET\n",
      "AHMET.py\n"
     ]
    }
   ],
   "source": [
    "# ÖDEV NO:3\n",
    "\n",
    "dosya_adi=input(\"dosya adını yazınız:\")\n",
    "print(dosya_adi,\"py\", sep=\".\")"
   ]
  }
 ],
 "metadata": {
  "kernelspec": {
   "display_name": "Python 3",
   "language": "python",
   "name": "python3"
  },
  "language_info": {
   "codemirror_mode": {
    "name": "ipython",
    "version": 3
   },
   "file_extension": ".py",
   "mimetype": "text/x-python",
   "name": "python",
   "nbconvert_exporter": "python",
   "pygments_lexer": "ipython3",
   "version": "3.7.2"
  }
 },
 "nbformat": 4,
 "nbformat_minor": 2
}
